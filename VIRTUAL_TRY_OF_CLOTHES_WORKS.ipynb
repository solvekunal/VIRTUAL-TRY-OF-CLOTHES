{
 "cells": [
  {
   "cell_type": "code",
   "execution_count": 1,
   "id": "8d18b1ec-bd64-4bc7-940f-080839541d9b",
   "metadata": {},
   "outputs": [
    {
     "name": "stderr",
     "output_type": "stream",
     "text": [
      "E:\\new_downloads_default_folder\\anaconda_destination_folder\\Lib\\site-packages\\google\\protobuf\\symbol_database.py:55: UserWarning: SymbolDatabase.GetPrototype() is deprecated. Please use message_factory.GetMessageClass() instead. SymbolDatabase.GetPrototype() will be removed soon.\n",
      "  warnings.warn('SymbolDatabase.GetPrototype() is deprecated. Please '\n"
     ]
    }
   ],
   "source": [
    "import cv2\n",
    "import mediapipe as mp\n",
    "import numpy as np\n",
    "\n",
    "# Initialize MediaPipe Face Mesh\n",
    "mp_face_mesh = mp.solutions.face_mesh\n",
    "face_mesh = mp_face_mesh.FaceMesh(max_num_faces=1, refine_landmarks=True)\n",
    "\n",
    "# Initialize MediaPipe Pose (for body landmarks)\n",
    "mp_pose = mp.solutions.pose\n",
    "pose = mp_pose.Pose()\n",
    "\n",
    "# Function to overlay clothing\n",
    "def overlay_clothing(frame, body_landmarks, clothing):\n",
    "    # Example body landmarks for the t-shirt\n",
    "    # Replace with actual body landmarks\n",
    "    left_shoulder = body_landmarks.landmark[5]  # Left shoulder landmark\n",
    "    right_shoulder = body_landmarks.landmark[2]  # Right shoulder landmark\n",
    "\n",
    "    # Convert normalized coordinates to pixel values\n",
    "    h, w, _ = frame.shape\n",
    "    left_shoulder = (int(left_shoulder.x * w), int(left_shoulder.y * h))\n",
    "    right_shoulder = (int(right_shoulder.x * w), int(right_shoulder.y * h))\n",
    "\n",
    "    # Calculate the width of the clothing based on shoulder distance\n",
    "    clothing_width = int(((right_shoulder[0] - left_shoulder[0]) ** 2 + (right_shoulder[1] - left_shoulder[1]) ** 2) ** 0.5)\n",
    "\n",
    "    # Resize the clothing to fit the body\n",
    "    clothing_resized = cv2.resize(clothing, (clothing_width, int(clothing.shape[0] * (clothing_width / clothing.shape[1]))))\n",
    "\n",
    "    # Calculate the position to place the clothing\n",
    "    top_left = (left_shoulder[0] - clothing_resized.shape[1] // 2, left_shoulder[1] - clothing_resized.shape[0] // 2)\n",
    "\n",
    "    # Ensure the overlay does not exceed the frame boundaries\n",
    "    for i in range(clothing_resized.shape[0]):\n",
    "        for j in range(clothing_resized.shape[1]):\n",
    "            y_pos = top_left[1] + i\n",
    "            x_pos = top_left[0] + j\n",
    "\n",
    "            if 0 <= x_pos < w and 0 <= y_pos < h and clothing_resized[i, j, 3] > 0:\n",
    "                frame[y_pos, x_pos] = clothing_resized[i, j, :3]\n",
    "\n",
    "    return frame\n",
    "\n",
    "# Load the clothing image (make sure it has an alpha channel)\n",
    "clothing = cv2.imread(r'E:\\jupyter_notebook\\Pictures\\tshirt1.png', cv2.IMREAD_UNCHANGED)\n",
    "\n",
    "# Start video capture\n",
    "cap = cv2.VideoCapture(0)\n",
    "\n",
    "while cap.isOpened():\n",
    "    success, frame = cap.read()\n",
    "    if not success:\n",
    "        break\n",
    "\n",
    "    # Convert the frame to RGB for Mediapipe processing\n",
    "    rgb_frame = cv2.cvtColor(frame, cv2.COLOR_BGR2RGB)\n",
    "\n",
    "    # Get face landmarks\n",
    "    face_result = face_mesh.process(rgb_frame)\n",
    "\n",
    "    # Get body landmarks\n",
    "    pose_result = pose.process(rgb_frame)\n",
    "\n",
    "    # If body landmarks are detected, overlay the clothing\n",
    "    if pose_result.pose_landmarks:\n",
    "        frame = overlay_clothing(frame, pose_result.pose_landmarks, clothing)\n",
    "\n",
    "    # Display the result\n",
    "    cv2.imshow('Virtual Try-On', frame)\n",
    "\n",
    "    if cv2.waitKey(1) & 0xFF == ord('q'):\n",
    "        break\n",
    "\n",
    "# Release resources\n",
    "cap.release()\n",
    "cv2.destroyAllWindows()"
   ]
  },
  {
   "cell_type": "code",
   "execution_count": null,
   "id": "5477c633-c69b-479a-8d54-f2d1e3e95db4",
   "metadata": {},
   "outputs": [],
   "source": []
  }
 ],
 "metadata": {
  "kernelspec": {
   "display_name": "Python 3 (ipykernel)",
   "language": "python",
   "name": "python3"
  },
  "language_info": {
   "codemirror_mode": {
    "name": "ipython",
    "version": 3
   },
   "file_extension": ".py",
   "mimetype": "text/x-python",
   "name": "python",
   "nbconvert_exporter": "python",
   "pygments_lexer": "ipython3",
   "version": "3.12.4"
  }
 },
 "nbformat": 4,
 "nbformat_minor": 5
}
